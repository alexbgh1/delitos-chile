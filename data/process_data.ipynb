{
 "cells": [
  {
   "attachments": {},
   "cell_type": "markdown",
   "metadata": {},
   "source": [
    "# Processing data\n",
    "- To download the same data sample we need to go to the following link: http://cead.spd.gov.cl/estadisticas-delictuales/\n",
    "- The configuration is the following:\n",
    "    - **MEDIDA** Frecuencia\n",
    "    - **TIPO DATOS** Casos Policiales\n",
    "    - **DELITO** Regiones [ TOTAL PAÍS ]\n",
    "    - **TEMPORALIDAD** Año [ 2005 to 2022 ] Mes [ Enero to Diciembre ]\n",
    "- Click on \"Descargar Excel\" and save as \"raw_data.xlsx\" (excel file)"
   ]
  },
  {
   "cell_type": "code",
   "execution_count": 8,
   "metadata": {},
   "outputs": [],
   "source": [
    "# ===== Imports =====\n",
    "import pandas as pd\n",
    "import json\n",
    "from datetime import datetime\n",
    "\n",
    "# %pip install openpyxl\n",
    "\n",
    "# ===== Parameters =====\n",
    "file_name = 'raw_data.xlsx'\n",
    "years = [ 2005, 2006, 2007, 2008, 2009, 2010, 2011, 2012, 2013, 2014, 2015, 2016, 2017, 2018, 2019, 2020, 2021, 2022, 2023]\n",
    "months = [ 1,2,3,4,5,6,7,8,9,10,11,12]\n",
    "groups = {\n",
    "    \"Delitos de mayor connotación social\":[],\n",
    "    \"Infracción a ley de armas\":[],\n",
    "    \"Incivilidades\":[],\n",
    "    \"Abigeato\":[],\n",
    "    \"Abusos sexuales y otros delitos sexuales\":[],\n",
    "    \"Violencia intrafamiliar\":[],\n",
    "    \"Receptación\":[],\n",
    "    \"Robo frustrado\":[]\n",
    "}\n",
    "\n",
    "folder_to_save = \"processed\""
   ]
  },
  {
   "cell_type": "code",
   "execution_count": 9,
   "metadata": {},
   "outputs": [
    {
     "name": "stdout",
     "output_type": "stream",
     "text": [
      "['GRUPO DELICTUAL / DELITO', '2005_01', '2005_02', '2005_03', '2005_04', '2005_05', '2005_06', '2005_07', '2005_08', '2005_09', '2005_10', '2005_11', '2005_12', '2006_01', '2006_02', '2006_03', '2006_04', '2006_05', '2006_06', '2006_07', '2006_08', '2006_09', '2006_10', '2006_11', '2006_12', '2007_01', '2007_02', '2007_03', '2007_04', '2007_05', '2007_06', '2007_07', '2007_08', '2007_09', '2007_10', '2007_11', '2007_12', '2008_01', '2008_02', '2008_03', '2008_04', '2008_05', '2008_06', '2008_07', '2008_08', '2008_09', '2008_10', '2008_11', '2008_12', '2009_01', '2009_02', '2009_03', '2009_04', '2009_05', '2009_06', '2009_07', '2009_08', '2009_09', '2009_10', '2009_11', '2009_12', '2010_01', '2010_02', '2010_03', '2010_04', '2010_05', '2010_06', '2010_07', '2010_08', '2010_09', '2010_10', '2010_11', '2010_12', '2011_01', '2011_02', '2011_03', '2011_04', '2011_05', '2011_06', '2011_07', '2011_08', '2011_09', '2011_10', '2011_11', '2011_12', '2012_01', '2012_02', '2012_03', '2012_04', '2012_05', '2012_06', '2012_07', '2012_08', '2012_09', '2012_10', '2012_11', '2012_12', '2013_01', '2013_02', '2013_03', '2013_04', '2013_05', '2013_06', '2013_07', '2013_08', '2013_09', '2013_10', '2013_11', '2013_12', '2014_01', '2014_02', '2014_03', '2014_04', '2014_05', '2014_06', '2014_07', '2014_08', '2014_09', '2014_10', '2014_11', '2014_12', '2015_01', '2015_02', '2015_03', '2015_04', '2015_05', '2015_06', '2015_07', '2015_08', '2015_09', '2015_10', '2015_11', '2015_12', '2016_01', '2016_02', '2016_03', '2016_04', '2016_05', '2016_06', '2016_07', '2016_08', '2016_09', '2016_10', '2016_11', '2016_12', '2017_01', '2017_02', '2017_03', '2017_04', '2017_05', '2017_06', '2017_07', '2017_08', '2017_09', '2017_10', '2017_11', '2017_12', '2018_01', '2018_02', '2018_03', '2018_04', '2018_05', '2018_06', '2018_07', '2018_08', '2018_09', '2018_10', '2018_11', '2018_12', '2019_01', '2019_02', '2019_03', '2019_04', '2019_05', '2019_06', '2019_07', '2019_08', '2019_09', '2019_10', '2019_11', '2019_12', '2020_01', '2020_02', '2020_03', '2020_04', '2020_05', '2020_06', '2020_07', '2020_08', '2020_09', '2020_10', '2020_11', '2020_12', '2021_01', '2021_02', '2021_03', '2021_04', '2021_05', '2021_06', '2021_07', '2021_08', '2021_09', '2021_10', '2021_11', '2021_12', '2022_01', '2022_02', '2022_03', '2022_04', '2022_05', '2022_06', '2022_07', '2022_08', '2022_09', '2022_10', '2022_11', '2022_12', '2023_01', '2023_02', '2023_03', '2023_04', '2023_05', '2023_06', '2023_07', '2023_08', '2023_09', '2023_10', '2023_11', '2023_12']\n"
     ]
    }
   ],
   "source": [
    "years_months = [\"GRUPO DELICTUAL / DELITO\"]\n",
    "for year in years:\n",
    "    for month in months:\n",
    "        # Expected format: 2005_01\n",
    "        years_months.append(str(year) + \"_\" + str(month).zfill(2))\n",
    "print(years_months)"
   ]
  },
  {
   "cell_type": "code",
   "execution_count": 11,
   "metadata": {},
   "outputs": [
    {
     "name": "stderr",
     "output_type": "stream",
     "text": [
      "C:\\Users\\darko\\AppData\\Local\\Temp\\ipykernel_1344\\3569267954.py:8: FutureWarning: In a future version, `df.iloc[:, i] = newvals` will attempt to set the values inplace instead of always setting a new array. To retain the old behavior, use either `df[df.columns[i]] = newvals` or, if columns are non-unique, `df.isetitem(i, newvals)`\n",
      "  df.iloc[:,1:] = df.iloc[:,1:].astype(int)\n"
     ]
    },
    {
     "data": {
      "text/html": [
       "<div>\n",
       "<style scoped>\n",
       "    .dataframe tbody tr th:only-of-type {\n",
       "        vertical-align: middle;\n",
       "    }\n",
       "\n",
       "    .dataframe tbody tr th {\n",
       "        vertical-align: top;\n",
       "    }\n",
       "\n",
       "    .dataframe thead th {\n",
       "        text-align: right;\n",
       "    }\n",
       "</style>\n",
       "<table border=\"1\" class=\"dataframe\">\n",
       "  <thead>\n",
       "    <tr style=\"text-align: right;\">\n",
       "      <th></th>\n",
       "      <th>GRUPO DELICTUAL / DELITO</th>\n",
       "      <th>2005_01</th>\n",
       "      <th>2005_02</th>\n",
       "      <th>2005_03</th>\n",
       "      <th>2005_04</th>\n",
       "      <th>2005_05</th>\n",
       "      <th>2005_06</th>\n",
       "      <th>2005_07</th>\n",
       "      <th>2005_08</th>\n",
       "      <th>2005_09</th>\n",
       "      <th>...</th>\n",
       "      <th>2023_03</th>\n",
       "      <th>2023_04</th>\n",
       "      <th>2023_05</th>\n",
       "      <th>2023_06</th>\n",
       "      <th>2023_07</th>\n",
       "      <th>2023_08</th>\n",
       "      <th>2023_09</th>\n",
       "      <th>2023_10</th>\n",
       "      <th>2023_11</th>\n",
       "      <th>2023_12</th>\n",
       "    </tr>\n",
       "  </thead>\n",
       "  <tbody>\n",
       "    <tr>\n",
       "      <th>21</th>\n",
       "      <td>Delitos de mayor connotación social</td>\n",
       "      <td>40826</td>\n",
       "      <td>38730</td>\n",
       "      <td>43227</td>\n",
       "      <td>41230</td>\n",
       "      <td>41382</td>\n",
       "      <td>40251</td>\n",
       "      <td>42295</td>\n",
       "      <td>44136</td>\n",
       "      <td>41671</td>\n",
       "      <td>...</td>\n",
       "      <td>45520</td>\n",
       "      <td>40510</td>\n",
       "      <td>44337</td>\n",
       "      <td>40959</td>\n",
       "      <td>42869</td>\n",
       "      <td>44083</td>\n",
       "      <td>41769</td>\n",
       "      <td>44151</td>\n",
       "      <td>44222</td>\n",
       "      <td>45501</td>\n",
       "    </tr>\n",
       "    <tr>\n",
       "      <th>22</th>\n",
       "      <td>Homicidios</td>\n",
       "      <td>55</td>\n",
       "      <td>43</td>\n",
       "      <td>50</td>\n",
       "      <td>57</td>\n",
       "      <td>37</td>\n",
       "      <td>46</td>\n",
       "      <td>48</td>\n",
       "      <td>55</td>\n",
       "      <td>39</td>\n",
       "      <td>...</td>\n",
       "      <td>85</td>\n",
       "      <td>77</td>\n",
       "      <td>79</td>\n",
       "      <td>73</td>\n",
       "      <td>58</td>\n",
       "      <td>78</td>\n",
       "      <td>74</td>\n",
       "      <td>69</td>\n",
       "      <td>81</td>\n",
       "      <td>95</td>\n",
       "    </tr>\n",
       "    <tr>\n",
       "      <th>23</th>\n",
       "      <td>Hurtos</td>\n",
       "      <td>12390</td>\n",
       "      <td>12452</td>\n",
       "      <td>14367</td>\n",
       "      <td>13484</td>\n",
       "      <td>13205</td>\n",
       "      <td>12246</td>\n",
       "      <td>12299</td>\n",
       "      <td>12935</td>\n",
       "      <td>12330</td>\n",
       "      <td>...</td>\n",
       "      <td>11397</td>\n",
       "      <td>10030</td>\n",
       "      <td>11215</td>\n",
       "      <td>10396</td>\n",
       "      <td>10792</td>\n",
       "      <td>11193</td>\n",
       "      <td>10166</td>\n",
       "      <td>11153</td>\n",
       "      <td>11237</td>\n",
       "      <td>12075</td>\n",
       "    </tr>\n",
       "    <tr>\n",
       "      <th>24</th>\n",
       "      <td>Lesiones leves</td>\n",
       "      <td>6858</td>\n",
       "      <td>6127</td>\n",
       "      <td>6703</td>\n",
       "      <td>6086</td>\n",
       "      <td>5752</td>\n",
       "      <td>5308</td>\n",
       "      <td>5440</td>\n",
       "      <td>5801</td>\n",
       "      <td>6077</td>\n",
       "      <td>...</td>\n",
       "      <td>5889</td>\n",
       "      <td>5396</td>\n",
       "      <td>5230</td>\n",
       "      <td>4520</td>\n",
       "      <td>4511</td>\n",
       "      <td>5266</td>\n",
       "      <td>5309</td>\n",
       "      <td>5432</td>\n",
       "      <td>5317</td>\n",
       "      <td>5339</td>\n",
       "    </tr>\n",
       "    <tr>\n",
       "      <th>25</th>\n",
       "      <td>Lesiones menos graves, graves o gravísimas</td>\n",
       "      <td>2260</td>\n",
       "      <td>1987</td>\n",
       "      <td>2098</td>\n",
       "      <td>1968</td>\n",
       "      <td>1812</td>\n",
       "      <td>1693</td>\n",
       "      <td>1845</td>\n",
       "      <td>1740</td>\n",
       "      <td>1904</td>\n",
       "      <td>...</td>\n",
       "      <td>1558</td>\n",
       "      <td>1412</td>\n",
       "      <td>1389</td>\n",
       "      <td>1347</td>\n",
       "      <td>1398</td>\n",
       "      <td>1338</td>\n",
       "      <td>1554</td>\n",
       "      <td>1502</td>\n",
       "      <td>1511</td>\n",
       "      <td>1663</td>\n",
       "    </tr>\n",
       "  </tbody>\n",
       "</table>\n",
       "<p>5 rows × 229 columns</p>\n",
       "</div>"
      ],
      "text/plain": [
       "                      GRUPO DELICTUAL / DELITO  2005_01  2005_02  2005_03  \\\n",
       "21         Delitos de mayor connotación social    40826    38730    43227   \n",
       "22                                  Homicidios       55       43       50   \n",
       "23                                      Hurtos    12390    12452    14367   \n",
       "24                              Lesiones leves     6858     6127     6703   \n",
       "25  Lesiones menos graves, graves o gravísimas     2260     1987     2098   \n",
       "\n",
       "    2005_04  2005_05  2005_06  2005_07  2005_08  2005_09  ...  2023_03  \\\n",
       "21    41230    41382    40251    42295    44136    41671  ...    45520   \n",
       "22       57       37       46       48       55       39  ...       85   \n",
       "23    13484    13205    12246    12299    12935    12330  ...    11397   \n",
       "24     6086     5752     5308     5440     5801     6077  ...     5889   \n",
       "25     1968     1812     1693     1845     1740     1904  ...     1558   \n",
       "\n",
       "    2023_04  2023_05  2023_06  2023_07  2023_08  2023_09  2023_10  2023_11  \\\n",
       "21    40510    44337    40959    42869    44083    41769    44151    44222   \n",
       "22       77       79       73       58       78       74       69       81   \n",
       "23    10030    11215    10396    10792    11193    10166    11153    11237   \n",
       "24     5396     5230     4520     4511     5266     5309     5432     5317   \n",
       "25     1412     1389     1347     1398     1338     1554     1502     1511   \n",
       "\n",
       "    2023_12  \n",
       "21    45501  \n",
       "22       95  \n",
       "23    12075  \n",
       "24     5339  \n",
       "25     1663  \n",
       "\n",
       "[5 rows x 229 columns]"
      ]
     },
     "execution_count": 11,
     "metadata": {},
     "output_type": "execute_result"
    }
   ],
   "source": [
    "# We need to read raw_data.xlsx (excel file)\n",
    "df = pd.read_excel(file_name)\n",
    "\n",
    "# Filter (arbitrary) df index > 20\n",
    "df = df[df.index > 20]\n",
    "\n",
    "# Transform column [1:] to INT\n",
    "df.iloc[:,1:] = df.iloc[:,1:].astype(int)\n",
    "\n",
    "# And we need to rename columns\n",
    "df.columns = years_months\n",
    "\n",
    "df.head()\n"
   ]
  },
  {
   "cell_type": "code",
   "execution_count": 12,
   "metadata": {},
   "outputs": [],
   "source": [
    "\"\"\"\n",
    "Now we iterate through rows\n",
    " In this step we are completing the groups dictionary\n",
    " Now the structure of groups is:\n",
    " {\n",
    "     \"Delitos de mayor connotación social\":[\n",
    "        pandas.Series of \"Delitos..\",\n",
    "        pandas.Series of \"Homicidios..\", ...], ...}\n",
    "\n",
    "\"\"\"\n",
    "\n",
    "for index, row in df.iterrows():\n",
    "    current_crime = row[0];\n",
    "    if (current_crime in groups):\n",
    "        # current_group = current_crime\n",
    "        # groups[current_crime].append(current_crime)\n",
    "        current_group = current_crime\n",
    "        groups[current_crime].append(row)\n",
    "    else:\n",
    "        groups[current_group].append(row)\n"
   ]
  },
  {
   "cell_type": "code",
   "execution_count": 13,
   "metadata": {},
   "outputs": [
    {
     "data": {
      "text/plain": [
       "GRUPO DELICTUAL / DELITO    Homicidios\n",
       "2005_01                             55\n",
       "2005_02                             43\n",
       "2005_03                             50\n",
       "2005_04                             57\n",
       "                               ...    \n",
       "2023_08                             78\n",
       "2023_09                             74\n",
       "2023_10                             69\n",
       "2023_11                             81\n",
       "2023_12                             95\n",
       "Name: 22, Length: 229, dtype: object"
      ]
     },
     "execution_count": 13,
     "metadata": {},
     "output_type": "execute_result"
    }
   ],
   "source": [
    "groups[\"Delitos de mayor connotación social\"][1]"
   ]
  },
  {
   "cell_type": "code",
   "execution_count": 14,
   "metadata": {},
   "outputs": [],
   "source": [
    "# Process dates\n",
    "def process_dates(data):\n",
    "\n",
    "    # Reverse row order, so the first row is at the end (sum of all crimes)\n",
    "    data = data.iloc[::-1]\n",
    "    # Transpose data, now rows are dates and columns are crimes\n",
    "    data = data.T\n",
    "    # Rename the first row to 'index' (crimes are now in columns)\n",
    "    data.columns = data.iloc[0]\n",
    "    # Remove the first row (crimes names)\n",
    "    data = data.iloc[1:]\n",
    "    \n",
    "    # Reset index and convert to datetime\n",
    "    data = data.reset_index()\n",
    "    data['index'] = data['index'].apply(lambda x: datetime.strptime(x, '%Y_%m'))\n",
    "\n",
    "    # Rename index to fecha\n",
    "    data = data.rename(columns={'index': 'fecha'})\n",
    "    return data"
   ]
  },
  {
   "cell_type": "code",
   "execution_count": 15,
   "metadata": {},
   "outputs": [
    {
     "name": "stdout",
     "output_type": "stream",
     "text": [
      "Delitos de mayor connotación social\n",
      "Infracción a ley de armas\n"
     ]
    },
    {
     "name": "stderr",
     "output_type": "stream",
     "text": [
      "C:\\Users\\darko\\AppData\\Local\\Temp\\ipykernel_1344\\1209682943.py:10: FutureWarning: The frame.append method is deprecated and will be removed from pandas in a future version. Use pandas.concat instead.\n",
      "  df_group = df_group.append(crime, ignore_index=True)\n",
      "C:\\Users\\darko\\AppData\\Local\\Temp\\ipykernel_1344\\1209682943.py:10: FutureWarning: The frame.append method is deprecated and will be removed from pandas in a future version. Use pandas.concat instead.\n",
      "  df_group = df_group.append(crime, ignore_index=True)\n"
     ]
    },
    {
     "name": "stdout",
     "output_type": "stream",
     "text": [
      "Incivilidades\n",
      "Abigeato\n",
      "Abusos sexuales y otros delitos sexuales\n",
      "Violencia intrafamiliar\n"
     ]
    },
    {
     "name": "stderr",
     "output_type": "stream",
     "text": [
      "C:\\Users\\darko\\AppData\\Local\\Temp\\ipykernel_1344\\1209682943.py:10: FutureWarning: The frame.append method is deprecated and will be removed from pandas in a future version. Use pandas.concat instead.\n",
      "  df_group = df_group.append(crime, ignore_index=True)\n",
      "C:\\Users\\darko\\AppData\\Local\\Temp\\ipykernel_1344\\1209682943.py:10: FutureWarning: The frame.append method is deprecated and will be removed from pandas in a future version. Use pandas.concat instead.\n",
      "  df_group = df_group.append(crime, ignore_index=True)\n",
      "C:\\Users\\darko\\AppData\\Local\\Temp\\ipykernel_1344\\1209682943.py:10: FutureWarning: The frame.append method is deprecated and will be removed from pandas in a future version. Use pandas.concat instead.\n",
      "  df_group = df_group.append(crime, ignore_index=True)\n",
      "C:\\Users\\darko\\AppData\\Local\\Temp\\ipykernel_1344\\1209682943.py:10: FutureWarning: The frame.append method is deprecated and will be removed from pandas in a future version. Use pandas.concat instead.\n",
      "  df_group = df_group.append(crime, ignore_index=True)\n"
     ]
    },
    {
     "name": "stdout",
     "output_type": "stream",
     "text": [
      "Receptación\n",
      "Robo frustrado\n"
     ]
    },
    {
     "name": "stderr",
     "output_type": "stream",
     "text": [
      "C:\\Users\\darko\\AppData\\Local\\Temp\\ipykernel_1344\\1209682943.py:10: FutureWarning: The frame.append method is deprecated and will be removed from pandas in a future version. Use pandas.concat instead.\n",
      "  df_group = df_group.append(crime, ignore_index=True)\n",
      "C:\\Users\\darko\\AppData\\Local\\Temp\\ipykernel_1344\\1209682943.py:10: FutureWarning: The frame.append method is deprecated and will be removed from pandas in a future version. Use pandas.concat instead.\n",
      "  df_group = df_group.append(crime, ignore_index=True)\n"
     ]
    }
   ],
   "source": [
    "# Now we can create a new dataframe for each group\n",
    "# And append the series of each crime\n",
    "\n",
    "for group in groups:\n",
    "    print(group)\n",
    "    df_group = pd.DataFrame()\n",
    "\n",
    "    # For each crime in the group we append it to the new dataframe\n",
    "    for crime in groups[group]:\n",
    "        df_group = df_group.append(crime, ignore_index=True)\n",
    "\n",
    "    # Process dates and save to csv on <folder_to_save> folder\n",
    "    data = process_dates(df_group)\n",
    "    data.to_csv(folder_to_save + \"/\" + group + \".csv\", index=False)\n"
   ]
  },
  {
   "cell_type": "code",
   "execution_count": 16,
   "metadata": {},
   "outputs": [
    {
     "data": {
      "text/plain": [
       "'Homicidios'"
      ]
     },
     "execution_count": 16,
     "metadata": {},
     "output_type": "execute_result"
    }
   ],
   "source": [
    "groups[\"Delitos de mayor connotación social\"][1][0]"
   ]
  },
  {
   "cell_type": "code",
   "execution_count": 17,
   "metadata": {},
   "outputs": [
    {
     "data": {
      "text/plain": [
       "{'Delitos de mayor connotación social': ['Delitos de mayor connotación social',\n",
       "  'Homicidios',\n",
       "  'Hurtos',\n",
       "  'Lesiones leves',\n",
       "  'Lesiones menos graves, graves o gravísimas',\n",
       "  'Otros robos con fuerza',\n",
       "  'Robo con violencia o intimidación',\n",
       "  'Robo de objetos de o desde vehículo',\n",
       "  'Robo de vehículo motorizado',\n",
       "  'Robo en lugar habitado',\n",
       "  'Robo en lugar no habitado',\n",
       "  'Robo por sorpresa',\n",
       "  'Violaciones'],\n",
       " 'Infracción a ley de armas': ['Infracción a ley de armas',\n",
       "  'Abandono de armas',\n",
       "  'Hallazgo de armas o explosivos',\n",
       "  'Otros ley de armas',\n",
       "  'Porte de armas',\n",
       "  'Tenencia ilegal de armas o explosivos'],\n",
       " 'Incivilidades': ['Incivilidades',\n",
       "  'Amenazas',\n",
       "  'Comercio ambulante o clandestino',\n",
       "  'Consumo alcohol vía pública',\n",
       "  'Daños',\n",
       "  'Desórdenes',\n",
       "  'Ebriedad',\n",
       "  'Otras incivilidades',\n",
       "  'Riña pública',\n",
       "  'Ruidos molestos'],\n",
       " 'Abigeato': ['Abigeato'],\n",
       " 'Abusos sexuales y otros delitos sexuales': ['Abusos sexuales y otros delitos sexuales'],\n",
       " 'Violencia intrafamiliar': ['Violencia intrafamiliar',\n",
       "  'Violencia intrafamiliar a adulto mayor',\n",
       "  'Violencia intrafamiliar a hombre',\n",
       "  'Violencia intrafamiliar a mujer',\n",
       "  'Violencia intrafamiliar a niño',\n",
       "  'Violencia intrafamiliar no clasificado'],\n",
       " 'Receptación': ['Receptación'],\n",
       " 'Robo frustrado': ['Robo frustrado']}"
      ]
     },
     "execution_count": 17,
     "metadata": {},
     "output_type": "execute_result"
    }
   ],
   "source": [
    "# Creating a new dictionary with the names of the groups as keys\n",
    "# And the names of the crimes as values\n",
    "group_crimes = list(groups.keys())\n",
    "new_dict = { group_crime: [] for group_crime in group_crimes}\n",
    "\n",
    "for group_crime in group_crimes:\n",
    "    for crime in groups[group_crime]:\n",
    "        new_dict[group_crime].append(crime[0])\n",
    "\n",
    "new_dict"
   ]
  },
  {
   "cell_type": "code",
   "execution_count": 18,
   "metadata": {},
   "outputs": [
    {
     "name": "stdout",
     "output_type": "stream",
     "text": [
      "Delitos de mayor connotación social\n",
      "Infracción a ley de armas\n"
     ]
    },
    {
     "name": "stderr",
     "output_type": "stream",
     "text": [
      "C:\\Users\\darko\\AppData\\Local\\Temp\\ipykernel_1344\\2561216211.py:10: FutureWarning: The frame.append method is deprecated and will be removed from pandas in a future version. Use pandas.concat instead.\n",
      "  df_group = df_group.append(crime, ignore_index=True)\n",
      "C:\\Users\\darko\\AppData\\Local\\Temp\\ipykernel_1344\\2561216211.py:10: FutureWarning: The frame.append method is deprecated and will be removed from pandas in a future version. Use pandas.concat instead.\n",
      "  df_group = df_group.append(crime, ignore_index=True)\n"
     ]
    },
    {
     "name": "stdout",
     "output_type": "stream",
     "text": [
      "Incivilidades\n",
      "Abigeato\n",
      "Abusos sexuales y otros delitos sexuales\n",
      "Violencia intrafamiliar\n"
     ]
    },
    {
     "name": "stderr",
     "output_type": "stream",
     "text": [
      "C:\\Users\\darko\\AppData\\Local\\Temp\\ipykernel_1344\\2561216211.py:10: FutureWarning: The frame.append method is deprecated and will be removed from pandas in a future version. Use pandas.concat instead.\n",
      "  df_group = df_group.append(crime, ignore_index=True)\n",
      "C:\\Users\\darko\\AppData\\Local\\Temp\\ipykernel_1344\\2561216211.py:10: FutureWarning: The frame.append method is deprecated and will be removed from pandas in a future version. Use pandas.concat instead.\n",
      "  df_group = df_group.append(crime, ignore_index=True)\n",
      "C:\\Users\\darko\\AppData\\Local\\Temp\\ipykernel_1344\\2561216211.py:10: FutureWarning: The frame.append method is deprecated and will be removed from pandas in a future version. Use pandas.concat instead.\n",
      "  df_group = df_group.append(crime, ignore_index=True)\n",
      "C:\\Users\\darko\\AppData\\Local\\Temp\\ipykernel_1344\\2561216211.py:10: FutureWarning: The frame.append method is deprecated and will be removed from pandas in a future version. Use pandas.concat instead.\n",
      "  df_group = df_group.append(crime, ignore_index=True)\n"
     ]
    },
    {
     "name": "stdout",
     "output_type": "stream",
     "text": [
      "Receptación\n",
      "Robo frustrado\n"
     ]
    },
    {
     "name": "stderr",
     "output_type": "stream",
     "text": [
      "C:\\Users\\darko\\AppData\\Local\\Temp\\ipykernel_1344\\2561216211.py:10: FutureWarning: The frame.append method is deprecated and will be removed from pandas in a future version. Use pandas.concat instead.\n",
      "  df_group = df_group.append(crime, ignore_index=True)\n",
      "C:\\Users\\darko\\AppData\\Local\\Temp\\ipykernel_1344\\2561216211.py:10: FutureWarning: The frame.append method is deprecated and will be removed from pandas in a future version. Use pandas.concat instead.\n",
      "  df_group = df_group.append(crime, ignore_index=True)\n"
     ]
    }
   ],
   "source": [
    "# We also are going to save the data as a json file\n",
    "# This is for the frontend\n",
    "\n",
    "for group in groups:\n",
    "    print(group)\n",
    "    df_group = pd.DataFrame()\n",
    "\n",
    "    # For each crime in the group we append it to the new dataframe\n",
    "    for crime in groups[group]:\n",
    "        df_group = df_group.append(crime, ignore_index=True)\n",
    "\n",
    "    # Process dates and save to csv on <folder_to_save> folder\n",
    "    data = process_dates(df_group)\n",
    "    data.to_json(folder_to_save + \"/\" + group + \".json\", orient='records', force_ascii=False)\n",
    "\n",
    "    "
   ]
  },
  {
   "cell_type": "code",
   "execution_count": 19,
   "metadata": {},
   "outputs": [],
   "source": [
    "# Save .json file with Parameters information\n",
    "# on <folder_to_save> folder\n",
    "group_crimes = list(groups.keys())\n",
    "\n",
    "with open(folder_to_save + \"/parameters.json\", \"w\") as write_file:\n",
    "    json.dump({\n",
    "        \"file_name\": file_name,\n",
    "        \"years\": years,\n",
    "        \"months\": months,\n",
    "        \"groups\": new_dict,\n",
    "        \"folder_to_save\": folder_to_save\n",
    "    }, write_file, indent=4, ensure_ascii=False)"
   ]
  }
 ],
 "metadata": {
  "kernelspec": {
   "display_name": "myenv",
   "language": "python",
   "name": "python3"
  },
  "language_info": {
   "codemirror_mode": {
    "name": "ipython",
    "version": 3
   },
   "file_extension": ".py",
   "mimetype": "text/x-python",
   "name": "python",
   "nbconvert_exporter": "python",
   "pygments_lexer": "ipython3",
   "version": "3.8.10"
  },
  "orig_nbformat": 4
 },
 "nbformat": 4,
 "nbformat_minor": 2
}
